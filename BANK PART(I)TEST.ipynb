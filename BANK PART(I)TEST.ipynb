{
 "cells": [
  {
   "cell_type": "markdown",
   "id": "70e9446c",
   "metadata": {},
   "source": [
    "<h3>IMPORT LIBRARIES</h3>"
   ]
  },
  {
   "cell_type": "code",
   "execution_count": 1,
   "id": "03077bef",
   "metadata": {},
   "outputs": [],
   "source": [
    "import pandas as pd\n",
    "import numpy as np\n",
    "from sklearn import preprocessing\n",
    "from sklearn.model_selection import train_test_split\n",
    "from sklearn.preprocessing import MinMaxScaler\n",
    "from sklearn.linear_model import LinearRegression\n",
    "from sklearn.linear_model import LogisticRegression\n",
    "from sklearn.ensemble import RandomForestRegressor\n",
    "from sklearn.ensemble import RandomForestClassifier\n",
    "from sklearn.ensemble import AdaBoostRegressor\n",
    "from sklearn.ensemble import AdaBoostClassifier\n",
    "from sklearn.metrics import mean_squared_error\n",
    "import warnings\n",
    "warnings.filterwarnings('ignore')"
   ]
  },
  {
   "cell_type": "markdown",
   "id": "d60881ff",
   "metadata": {},
   "source": [
    "<h3>IMPORT DATASET</h3>"
   ]
  },
  {
   "cell_type": "code",
   "execution_count": 2,
   "id": "847a5e67",
   "metadata": {},
   "outputs": [
    {
     "data": {
      "text/html": [
       "<div>\n",
       "<style scoped>\n",
       "    .dataframe tbody tr th:only-of-type {\n",
       "        vertical-align: middle;\n",
       "    }\n",
       "\n",
       "    .dataframe tbody tr th {\n",
       "        vertical-align: top;\n",
       "    }\n",
       "\n",
       "    .dataframe thead th {\n",
       "        text-align: right;\n",
       "    }\n",
       "</style>\n",
       "<table border=\"1\" class=\"dataframe\">\n",
       "  <thead>\n",
       "    <tr style=\"text-align: right;\">\n",
       "      <th></th>\n",
       "      <th>age</th>\n",
       "      <th>job</th>\n",
       "      <th>marital</th>\n",
       "      <th>education</th>\n",
       "      <th>default</th>\n",
       "      <th>housing</th>\n",
       "      <th>loan</th>\n",
       "      <th>contact</th>\n",
       "      <th>month</th>\n",
       "      <th>day_of_week</th>\n",
       "      <th>...</th>\n",
       "      <th>campaign</th>\n",
       "      <th>pdays</th>\n",
       "      <th>previous</th>\n",
       "      <th>poutcome</th>\n",
       "      <th>emp.var.rate</th>\n",
       "      <th>cons.price.idx</th>\n",
       "      <th>cons.conf.idx</th>\n",
       "      <th>euribor3m</th>\n",
       "      <th>nr.employed</th>\n",
       "      <th>y</th>\n",
       "    </tr>\n",
       "  </thead>\n",
       "  <tbody>\n",
       "    <tr>\n",
       "      <th>0</th>\n",
       "      <td>56</td>\n",
       "      <td>housemaid</td>\n",
       "      <td>married</td>\n",
       "      <td>basic.4y</td>\n",
       "      <td>no</td>\n",
       "      <td>no</td>\n",
       "      <td>no</td>\n",
       "      <td>telephone</td>\n",
       "      <td>may</td>\n",
       "      <td>mon</td>\n",
       "      <td>...</td>\n",
       "      <td>1</td>\n",
       "      <td>999</td>\n",
       "      <td>0</td>\n",
       "      <td>nonexistent</td>\n",
       "      <td>1.1</td>\n",
       "      <td>93.994</td>\n",
       "      <td>-36.4</td>\n",
       "      <td>4.857</td>\n",
       "      <td>5191.0</td>\n",
       "      <td>no</td>\n",
       "    </tr>\n",
       "    <tr>\n",
       "      <th>1</th>\n",
       "      <td>57</td>\n",
       "      <td>services</td>\n",
       "      <td>married</td>\n",
       "      <td>high.school</td>\n",
       "      <td>unknown</td>\n",
       "      <td>no</td>\n",
       "      <td>no</td>\n",
       "      <td>telephone</td>\n",
       "      <td>may</td>\n",
       "      <td>mon</td>\n",
       "      <td>...</td>\n",
       "      <td>1</td>\n",
       "      <td>999</td>\n",
       "      <td>0</td>\n",
       "      <td>nonexistent</td>\n",
       "      <td>1.1</td>\n",
       "      <td>93.994</td>\n",
       "      <td>-36.4</td>\n",
       "      <td>4.857</td>\n",
       "      <td>5191.0</td>\n",
       "      <td>no</td>\n",
       "    </tr>\n",
       "    <tr>\n",
       "      <th>2</th>\n",
       "      <td>37</td>\n",
       "      <td>services</td>\n",
       "      <td>married</td>\n",
       "      <td>high.school</td>\n",
       "      <td>no</td>\n",
       "      <td>yes</td>\n",
       "      <td>no</td>\n",
       "      <td>telephone</td>\n",
       "      <td>may</td>\n",
       "      <td>mon</td>\n",
       "      <td>...</td>\n",
       "      <td>1</td>\n",
       "      <td>999</td>\n",
       "      <td>0</td>\n",
       "      <td>nonexistent</td>\n",
       "      <td>1.1</td>\n",
       "      <td>93.994</td>\n",
       "      <td>-36.4</td>\n",
       "      <td>4.857</td>\n",
       "      <td>5191.0</td>\n",
       "      <td>no</td>\n",
       "    </tr>\n",
       "    <tr>\n",
       "      <th>3</th>\n",
       "      <td>40</td>\n",
       "      <td>admin.</td>\n",
       "      <td>married</td>\n",
       "      <td>basic.6y</td>\n",
       "      <td>no</td>\n",
       "      <td>no</td>\n",
       "      <td>no</td>\n",
       "      <td>telephone</td>\n",
       "      <td>may</td>\n",
       "      <td>mon</td>\n",
       "      <td>...</td>\n",
       "      <td>1</td>\n",
       "      <td>999</td>\n",
       "      <td>0</td>\n",
       "      <td>nonexistent</td>\n",
       "      <td>1.1</td>\n",
       "      <td>93.994</td>\n",
       "      <td>-36.4</td>\n",
       "      <td>4.857</td>\n",
       "      <td>5191.0</td>\n",
       "      <td>no</td>\n",
       "    </tr>\n",
       "    <tr>\n",
       "      <th>4</th>\n",
       "      <td>56</td>\n",
       "      <td>services</td>\n",
       "      <td>married</td>\n",
       "      <td>high.school</td>\n",
       "      <td>no</td>\n",
       "      <td>no</td>\n",
       "      <td>yes</td>\n",
       "      <td>telephone</td>\n",
       "      <td>may</td>\n",
       "      <td>mon</td>\n",
       "      <td>...</td>\n",
       "      <td>1</td>\n",
       "      <td>999</td>\n",
       "      <td>0</td>\n",
       "      <td>nonexistent</td>\n",
       "      <td>1.1</td>\n",
       "      <td>93.994</td>\n",
       "      <td>-36.4</td>\n",
       "      <td>4.857</td>\n",
       "      <td>5191.0</td>\n",
       "      <td>no</td>\n",
       "    </tr>\n",
       "  </tbody>\n",
       "</table>\n",
       "<p>5 rows × 21 columns</p>\n",
       "</div>"
      ],
      "text/plain": [
       "   age        job  marital    education  default housing loan    contact  \\\n",
       "0   56  housemaid  married     basic.4y       no      no   no  telephone   \n",
       "1   57   services  married  high.school  unknown      no   no  telephone   \n",
       "2   37   services  married  high.school       no     yes   no  telephone   \n",
       "3   40     admin.  married     basic.6y       no      no   no  telephone   \n",
       "4   56   services  married  high.school       no      no  yes  telephone   \n",
       "\n",
       "  month day_of_week  ...  campaign  pdays  previous     poutcome emp.var.rate  \\\n",
       "0   may         mon  ...         1    999         0  nonexistent          1.1   \n",
       "1   may         mon  ...         1    999         0  nonexistent          1.1   \n",
       "2   may         mon  ...         1    999         0  nonexistent          1.1   \n",
       "3   may         mon  ...         1    999         0  nonexistent          1.1   \n",
       "4   may         mon  ...         1    999         0  nonexistent          1.1   \n",
       "\n",
       "   cons.price.idx  cons.conf.idx  euribor3m  nr.employed   y  \n",
       "0          93.994          -36.4      4.857       5191.0  no  \n",
       "1          93.994          -36.4      4.857       5191.0  no  \n",
       "2          93.994          -36.4      4.857       5191.0  no  \n",
       "3          93.994          -36.4      4.857       5191.0  no  \n",
       "4          93.994          -36.4      4.857       5191.0  no  \n",
       "\n",
       "[5 rows x 21 columns]"
      ]
     },
     "execution_count": 2,
     "metadata": {},
     "output_type": "execute_result"
    }
   ],
   "source": [
    "bank=pd.read_csv(\"C:/Users/HP/Documents/bank.csv\",sep=\";\")\n",
    "bank.head()"
   ]
  },
  {
   "cell_type": "markdown",
   "id": "1215cee2",
   "metadata": {},
   "source": [
    "<h3>CHECK DATAFRAME</h3>"
   ]
  },
  {
   "cell_type": "code",
   "execution_count": 3,
   "id": "40711f06",
   "metadata": {},
   "outputs": [
    {
     "name": "stdout",
     "output_type": "stream",
     "text": [
      "<class 'pandas.core.frame.DataFrame'>\n",
      "RangeIndex: 41188 entries, 0 to 41187\n",
      "Data columns (total 21 columns):\n",
      " #   Column          Non-Null Count  Dtype  \n",
      "---  ------          --------------  -----  \n",
      " 0   age             41188 non-null  int64  \n",
      " 1   job             41188 non-null  object \n",
      " 2   marital         41188 non-null  object \n",
      " 3   education       41188 non-null  object \n",
      " 4   default         41188 non-null  object \n",
      " 5   housing         41188 non-null  object \n",
      " 6   loan            41188 non-null  object \n",
      " 7   contact         41188 non-null  object \n",
      " 8   month           41188 non-null  object \n",
      " 9   day_of_week     41188 non-null  object \n",
      " 10  duration        41188 non-null  int64  \n",
      " 11  campaign        41188 non-null  int64  \n",
      " 12  pdays           41188 non-null  int64  \n",
      " 13  previous        41188 non-null  int64  \n",
      " 14  poutcome        41188 non-null  object \n",
      " 15  emp.var.rate    41188 non-null  float64\n",
      " 16  cons.price.idx  41188 non-null  float64\n",
      " 17  cons.conf.idx   41188 non-null  float64\n",
      " 18  euribor3m       41188 non-null  float64\n",
      " 19  nr.employed     41188 non-null  float64\n",
      " 20  y               41188 non-null  object \n",
      "dtypes: float64(5), int64(5), object(11)\n",
      "memory usage: 6.6+ MB\n"
     ]
    }
   ],
   "source": [
    "bank.info()"
   ]
  },
  {
   "cell_type": "markdown",
   "id": "36e9983c",
   "metadata": {},
   "source": [
    "<h3>MISSING VALUES</h3>"
   ]
  },
  {
   "cell_type": "code",
   "execution_count": 4,
   "id": "f81824de",
   "metadata": {},
   "outputs": [
    {
     "data": {
      "text/plain": [
       "age               0\n",
       "job               0\n",
       "marital           0\n",
       "education         0\n",
       "default           0\n",
       "housing           0\n",
       "loan              0\n",
       "contact           0\n",
       "month             0\n",
       "day_of_week       0\n",
       "duration          0\n",
       "campaign          0\n",
       "pdays             0\n",
       "previous          0\n",
       "poutcome          0\n",
       "emp.var.rate      0\n",
       "cons.price.idx    0\n",
       "cons.conf.idx     0\n",
       "euribor3m         0\n",
       "nr.employed       0\n",
       "y                 0\n",
       "dtype: int64"
      ]
     },
     "execution_count": 4,
     "metadata": {},
     "output_type": "execute_result"
    }
   ],
   "source": [
    "bank.isnull().sum()"
   ]
  },
  {
   "cell_type": "markdown",
   "id": "c4253dc8",
   "metadata": {},
   "source": [
    "<h3>LABEL ENCODING</h3>"
   ]
  },
  {
   "cell_type": "code",
   "execution_count": 5,
   "id": "52e1da8b",
   "metadata": {},
   "outputs": [],
   "source": [
    "label_encoder = preprocessing.LabelEncoder() "
   ]
  },
  {
   "cell_type": "code",
   "execution_count": 6,
   "id": "81970b88",
   "metadata": {},
   "outputs": [
    {
     "data": {
      "text/plain": [
       "array(['admin.', 'blue-collar', 'entrepreneur', 'housemaid', 'management',\n",
       "       'retired', 'self-employed', 'services', 'student', 'technician',\n",
       "       'unemployed', 'unknown'], dtype=object)"
      ]
     },
     "execution_count": 6,
     "metadata": {},
     "output_type": "execute_result"
    }
   ],
   "source": [
    "bank['job']= label_encoder.fit_transform(bank['job'])\n",
    "label_encoder.classes_"
   ]
  },
  {
   "cell_type": "code",
   "execution_count": 7,
   "id": "f0950201",
   "metadata": {},
   "outputs": [
    {
     "data": {
      "text/plain": [
       "array(['divorced', 'married', 'single', 'unknown'], dtype=object)"
      ]
     },
     "execution_count": 7,
     "metadata": {},
     "output_type": "execute_result"
    }
   ],
   "source": [
    "bank['marital']= label_encoder.fit_transform(bank['marital'])\n",
    "label_encoder.classes_"
   ]
  },
  {
   "cell_type": "code",
   "execution_count": 8,
   "id": "2a8e57b0",
   "metadata": {},
   "outputs": [
    {
     "data": {
      "text/plain": [
       "array(['basic.4y', 'basic.6y', 'basic.9y', 'high.school', 'illiterate',\n",
       "       'professional.course', 'university.degree', 'unknown'],\n",
       "      dtype=object)"
      ]
     },
     "execution_count": 8,
     "metadata": {},
     "output_type": "execute_result"
    }
   ],
   "source": [
    "bank['education']= label_encoder.fit_transform(bank['education'])\n",
    "label_encoder.classes_"
   ]
  },
  {
   "cell_type": "code",
   "execution_count": 9,
   "id": "9dcb0636",
   "metadata": {},
   "outputs": [
    {
     "data": {
      "text/plain": [
       "array(['no', 'unknown', 'yes'], dtype=object)"
      ]
     },
     "execution_count": 9,
     "metadata": {},
     "output_type": "execute_result"
    }
   ],
   "source": [
    "bank['default']= label_encoder.fit_transform(bank['default'])\n",
    "label_encoder.classes_"
   ]
  },
  {
   "cell_type": "code",
   "execution_count": 10,
   "id": "02f32ecc",
   "metadata": {},
   "outputs": [
    {
     "data": {
      "text/plain": [
       "array(['no', 'unknown', 'yes'], dtype=object)"
      ]
     },
     "execution_count": 10,
     "metadata": {},
     "output_type": "execute_result"
    }
   ],
   "source": [
    "bank['housing']= label_encoder.fit_transform(bank['housing'])\n",
    "label_encoder.classes_"
   ]
  },
  {
   "cell_type": "code",
   "execution_count": 11,
   "id": "32272895",
   "metadata": {},
   "outputs": [
    {
     "data": {
      "text/plain": [
       "array(['no', 'unknown', 'yes'], dtype=object)"
      ]
     },
     "execution_count": 11,
     "metadata": {},
     "output_type": "execute_result"
    }
   ],
   "source": [
    "bank['loan']= label_encoder.fit_transform(bank['loan'])\n",
    "label_encoder.classes_"
   ]
  },
  {
   "cell_type": "code",
   "execution_count": 12,
   "id": "10f8ff6c",
   "metadata": {},
   "outputs": [
    {
     "data": {
      "text/plain": [
       "array(['cellular', 'telephone'], dtype=object)"
      ]
     },
     "execution_count": 12,
     "metadata": {},
     "output_type": "execute_result"
    }
   ],
   "source": [
    "bank['contact']= label_encoder.fit_transform(bank['contact'])\n",
    "label_encoder.classes_"
   ]
  },
  {
   "cell_type": "code",
   "execution_count": 13,
   "id": "80fe39b8",
   "metadata": {},
   "outputs": [
    {
     "data": {
      "text/plain": [
       "array(['apr', 'aug', 'dec', 'jul', 'jun', 'mar', 'may', 'nov', 'oct',\n",
       "       'sep'], dtype=object)"
      ]
     },
     "execution_count": 13,
     "metadata": {},
     "output_type": "execute_result"
    }
   ],
   "source": [
    "bank['month']= label_encoder.fit_transform(bank['month'])\n",
    "label_encoder.classes_"
   ]
  },
  {
   "cell_type": "code",
   "execution_count": 14,
   "id": "50bc70cc",
   "metadata": {},
   "outputs": [
    {
     "data": {
      "text/plain": [
       "array(['fri', 'mon', 'thu', 'tue', 'wed'], dtype=object)"
      ]
     },
     "execution_count": 14,
     "metadata": {},
     "output_type": "execute_result"
    }
   ],
   "source": [
    "bank['day_of_week']= label_encoder.fit_transform(bank['day_of_week'])\n",
    "label_encoder.classes_"
   ]
  },
  {
   "cell_type": "code",
   "execution_count": 15,
   "id": "40bf1dc9",
   "metadata": {},
   "outputs": [
    {
     "data": {
      "text/plain": [
       "array(['failure', 'nonexistent', 'success'], dtype=object)"
      ]
     },
     "execution_count": 15,
     "metadata": {},
     "output_type": "execute_result"
    }
   ],
   "source": [
    "bank['poutcome']= label_encoder.fit_transform(bank['poutcome'])\n",
    "label_encoder.classes_"
   ]
  },
  {
   "cell_type": "code",
   "execution_count": 16,
   "id": "7f6e6c5b",
   "metadata": {},
   "outputs": [
    {
     "data": {
      "text/plain": [
       "array(['no', 'yes'], dtype=object)"
      ]
     },
     "execution_count": 16,
     "metadata": {},
     "output_type": "execute_result"
    }
   ],
   "source": [
    "bank['y']= label_encoder.fit_transform(bank['y'])\n",
    "label_encoder.classes_"
   ]
  },
  {
   "cell_type": "markdown",
   "id": "53db6752",
   "metadata": {},
   "source": [
    "<h3>SEPARATE X AND Y</h3>"
   ]
  },
  {
   "cell_type": "code",
   "execution_count": 17,
   "id": "8bf69bf9",
   "metadata": {},
   "outputs": [],
   "source": [
    "y=bank.y\n",
    "x=bank[['age','job','marital','education','default','housing','loan','contact','month','day_of_week','duration','campaign','pdays','previous','poutcome','emp.var.rate','cons.conf.idx','euribor3m','nr.employed']]"
   ]
  },
  {
   "cell_type": "code",
   "execution_count": 18,
   "id": "2dc97d15",
   "metadata": {},
   "outputs": [],
   "source": [
    "x=pd.get_dummies(x)"
   ]
  },
  {
   "cell_type": "markdown",
   "id": "9e81fd84",
   "metadata": {},
   "source": [
    "<h3>SCALING</h3>"
   ]
  },
  {
   "cell_type": "code",
   "execution_count": 19,
   "id": "2557df32",
   "metadata": {},
   "outputs": [
    {
     "data": {
      "text/plain": [
       "array([[0.48148148, 0.27272727, 0.33333333, ..., 0.60251046, 0.95737928,\n",
       "        0.85973535],\n",
       "       [0.49382716, 0.63636364, 0.33333333, ..., 0.60251046, 0.95737928,\n",
       "        0.85973535],\n",
       "       [0.24691358, 0.63636364, 0.33333333, ..., 0.60251046, 0.95737928,\n",
       "        0.85973535],\n",
       "       ...,\n",
       "       [0.48148148, 0.45454545, 0.33333333, ..., 0.        , 0.08932215,\n",
       "        0.        ],\n",
       "       [0.33333333, 0.81818182, 0.33333333, ..., 0.        , 0.08932215,\n",
       "        0.        ],\n",
       "       [0.7037037 , 0.45454545, 0.33333333, ..., 0.        , 0.08932215,\n",
       "        0.        ]])"
      ]
     },
     "execution_count": 19,
     "metadata": {},
     "output_type": "execute_result"
    }
   ],
   "source": [
    "from sklearn.preprocessing import MinMaxScaler\n",
    "scaler = MinMaxScaler()\n",
    "scaler.fit_transform(x)"
   ]
  },
  {
   "cell_type": "markdown",
   "id": "0596d097",
   "metadata": {},
   "source": [
    "<h3>SPLIT TRAIN AND TEST</h3>"
   ]
  },
  {
   "cell_type": "code",
   "execution_count": 20,
   "id": "e367eb41",
   "metadata": {},
   "outputs": [],
   "source": [
    "from sklearn.feature_selection import SelectFromModel\n",
    "train_x,test_x,train_y,test_y=train_test_split(x,y,test_size=0.2,random_state=100)"
   ]
  },
  {
   "cell_type": "markdown",
   "id": "732d9afc",
   "metadata": {},
   "source": [
    "<h3>RANDOM FOREST</h3>"
   ]
  },
  {
   "cell_type": "code",
   "execution_count": 21,
   "id": "75b0fb04",
   "metadata": {},
   "outputs": [
    {
     "data": {
      "text/plain": [
       "Index(['age', 'duration', 'euribor3m', 'nr.employed'], dtype='object')"
      ]
     },
     "execution_count": 21,
     "metadata": {},
     "output_type": "execute_result"
    }
   ],
   "source": [
    "select=SelectFromModel(RandomForestClassifier(n_estimators = 100))\n",
    "select.fit(train_x, train_y)\n",
    "select.get_support()\n",
    "selected_feat= train_x.columns[(select.get_support())]\n",
    "len(selected_feat)\n",
    "selected_feat"
   ]
  },
  {
   "cell_type": "markdown",
   "id": "9e2b15fc",
   "metadata": {},
   "source": [
    "<h3>LOGISTIC REGRESSION</h3>"
   ]
  },
  {
   "cell_type": "code",
   "execution_count": 22,
   "id": "ca988955",
   "metadata": {},
   "outputs": [
    {
     "name": "stdout",
     "output_type": "stream",
     "text": [
      "Train Score = 0.9071927162367223\n",
      "Test Score = 0.907623209516873\n"
     ]
    }
   ],
   "source": [
    "from sklearn.linear_model import LogisticRegression as LR\n",
    "model=LR(random_state=0).fit(train_x,train_y)\n",
    "print(\"Train Score =\",model.score(train_x,train_y))\n",
    "print(\"Test Score =\",model.score(test_x,test_y))\n",
    "score1=model.score(test_x,test_y)\n",
    "predicted_y=model.predict(test_x)\n",
    "rmse1=mean_squared_error(test_y,predicted_y, squared=False)"
   ]
  },
  {
   "cell_type": "markdown",
   "id": "2084575d",
   "metadata": {},
   "source": [
    "<h3>ADABOOST</h3>"
   ]
  },
  {
   "cell_type": "code",
   "execution_count": 23,
   "id": "bc5b928a",
   "metadata": {},
   "outputs": [],
   "source": [
    "from sklearn.ensemble import AdaBoostRegressor\n",
    "regress=AdaBoostRegressor(random_state=0, n_estimators=100)\n",
    "regress.fit(train_x, train_y)\n",
    "score2=regress.score(test_x,test_y)\n",
    "prdicted_y=regress.predict(test_x)\n",
    "rmse2=mean_squared_error(test_y,prdicted_y,squared=False)"
   ]
  },
  {
   "cell_type": "markdown",
   "id": "31f4656b",
   "metadata": {},
   "source": [
    "<h3>NAIVE BAYES</h3>"
   ]
  },
  {
   "cell_type": "code",
   "execution_count": 24,
   "id": "c2ee02f6",
   "metadata": {},
   "outputs": [],
   "source": [
    "from sklearn.naive_bayes import GaussianNB\n",
    "gnb=GaussianNB()\n",
    "gnb.fit(train_x,train_y)\n",
    "score3=gnb.score(test_x,test_y)\n",
    "predicted_y=gnb.predict(test_x)\n",
    "rmse3=mean_squared_error(test_y,predicted_y,squared=False)"
   ]
  },
  {
   "cell_type": "code",
   "execution_count": 25,
   "id": "771b1522",
   "metadata": {},
   "outputs": [
    {
     "name": "stdout",
     "output_type": "stream",
     "text": [
      "Gaussian Naive Bayes model accuracy(in%): 84.54722019907744\n"
     ]
    }
   ],
   "source": [
    "from sklearn import metrics\n",
    "print(\"Gaussian Naive Bayes model accuracy(in%):\",metrics.accuracy_score(test_y,predicted_y)*100)"
   ]
  },
  {
   "cell_type": "markdown",
   "id": "cbb74c8b",
   "metadata": {},
   "source": [
    "<h3>KNN</h3>"
   ]
  },
  {
   "cell_type": "code",
   "execution_count": 27,
   "id": "e985652b",
   "metadata": {},
   "outputs": [],
   "source": [
    "from sklearn.neighbors import KNeighborsClassifier\n",
    "classifier= KNeighborsClassifier(n_neighbors=3)\n",
    "classifier.fit(train_x,train_y)\n",
    "score4=classifier.score(test_x,test_y)\n",
    "predicted_y=classifier.predict(test_x)\n",
    "rmse4=mean_squared_error(test_y,predicted_y,squared=False)"
   ]
  },
  {
   "cell_type": "markdown",
   "id": "1ad75bb8",
   "metadata": {},
   "source": [
    "<h3>SVM</h3>"
   ]
  },
  {
   "cell_type": "code",
   "execution_count": 28,
   "id": "4dbb1051",
   "metadata": {},
   "outputs": [],
   "source": [
    "from sklearn import svm\n",
    "model5=svm.SVC()\n",
    "model5.fit(train_x,train_y)\n",
    "score5=model5.score(test_x,test_y)\n",
    "predicted_y=model5.predict(test_x)\n",
    "rmse5=mean_squared_error(test_y,predicted_y,squared=False)"
   ]
  },
  {
   "cell_type": "markdown",
   "id": "9dc0f836",
   "metadata": {},
   "source": [
    "<h3>TABULATION</h3>"
   ]
  },
  {
   "cell_type": "code",
   "execution_count": 29,
   "id": "a8082638",
   "metadata": {},
   "outputs": [
    {
     "name": "stdout",
     "output_type": "stream",
     "text": [
      "Requirement already satisfied: tabulate in c:\\users\\hp\\anaconda3\\lib\\site-packages (0.8.9)Note: you may need to restart the kernel to use updated packages.\n",
      "\n"
     ]
    }
   ],
   "source": [
    "pip install tabulate"
   ]
  },
  {
   "cell_type": "code",
   "execution_count": 30,
   "id": "f820fdef",
   "metadata": {},
   "outputs": [],
   "source": [
    "from tabulate import tabulate"
   ]
  },
  {
   "cell_type": "code",
   "execution_count": 49,
   "id": "373f61c1",
   "metadata": {},
   "outputs": [],
   "source": [
    "final_model= [('LogisticRegression',score1,rmse1),\n",
    "   ('AdaBoost',score2,rmse2),\n",
    "   ('NaiveBayes',score3,rmse3),\n",
    "   ('Knn',score4,rmse4),\n",
    "   ('Svm',score5,rmse5)]"
   ]
  },
  {
   "cell_type": "code",
   "execution_count": 52,
   "id": "ae13d15f",
   "metadata": {},
   "outputs": [
    {
     "name": "stdout",
     "output_type": "stream",
     "text": [
      "Svm has the better performance of Score 0.907623209516873\n",
      "Svm has the better performance of Rmse 0.3931002391365662\n"
     ]
    }
   ],
   "source": [
    "diction={\"LogisticRegression\":score1,\"AdaBoost\":score2,'NaiveBayes':score3,'Knn':score4,'Svm':score5}\n",
    "sab={\"LogisticRegression\":rmse1,\"AdaBoost\":rmse2,'NaiveBayes':rmse3,'Knn':rmse4,'Svm':rmse5}\n",
    "print(max(diction.keys()),\"has the better performance of Score\",max(diction.values()))\n",
    "print(max(sab.keys()),\"has the better performance of Rmse\",max(sab.values()))"
   ]
  }
 ],
 "metadata": {
  "kernelspec": {
   "display_name": "Python 3 (ipykernel)",
   "language": "python",
   "name": "python3"
  },
  "language_info": {
   "codemirror_mode": {
    "name": "ipython",
    "version": 3
   },
   "file_extension": ".py",
   "mimetype": "text/x-python",
   "name": "python",
   "nbconvert_exporter": "python",
   "pygments_lexer": "ipython3",
   "version": "3.9.7"
  }
 },
 "nbformat": 4,
 "nbformat_minor": 5
}
